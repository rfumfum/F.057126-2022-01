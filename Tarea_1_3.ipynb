{
  "nbformat": 4,
  "nbformat_minor": 0,
  "metadata": {
    "colab": {
      "provenance": [],
      "authorship_tag": "ABX9TyOwC6gT+0aqfQI5P4+fsCYV",
      "include_colab_link": true
    },
    "kernelspec": {
      "name": "python3",
      "display_name": "Python 3"
    },
    "language_info": {
      "name": "python"
    }
  },
  "cells": [
    {
      "cell_type": "markdown",
      "metadata": {
        "id": "view-in-github",
        "colab_type": "text"
      },
      "source": [
        "<a href=\"https://colab.research.google.com/github/rfumfum/F.057126-2022-01/blob/main/Tarea_1_3.ipynb\" target=\"_parent\"><img src=\"https://colab.research.google.com/assets/colab-badge.svg\" alt=\"Open In Colab\"/></a>"
      ]
    },
    {
      "cell_type": "markdown",
      "source": [
        "NoteBook TAREA 1.3"
      ],
      "metadata": {
        "id": "dLWKCQCOSbM0"
      }
    },
    {
      "cell_type": "markdown",
      "source": [
        "1. Escribir un programa que imprima la palabra Hola."
      ],
      "metadata": {
        "id": "FzSbVmyYU0pi"
      }
    },
    {
      "cell_type": "code",
      "source": [
        "print(\"Hola\")"
      ],
      "metadata": {
        "colab": {
          "base_uri": "https://localhost:8080/"
        },
        "id": "zrh3fM6CVVd6",
        "outputId": "c7a1f588-15f4-4b09-bf94-c10dec0df82a"
      },
      "execution_count": null,
      "outputs": [
        {
          "output_type": "stream",
          "name": "stdout",
          "text": [
            "hola\n"
          ]
        }
      ]
    },
    {
      "cell_type": "markdown",
      "source": [
        "2. Escribir un programa donde la palabra Hola este guardada en una variable, e imprimir esa variable."
      ],
      "metadata": {
        "id": "TWOcPbTbVEyO"
      }
    },
    {
      "cell_type": "code",
      "source": [
        "texto = \"Hola\"\n",
        "print( texto)"
      ],
      "metadata": {
        "colab": {
          "base_uri": "https://localhost:8080/"
        },
        "id": "7kmxuAndVWEB",
        "outputId": "e1a0d43d-9fba-4987-f8e2-0ce605349077"
      },
      "execution_count": null,
      "outputs": [
        {
          "output_type": "stream",
          "name": "stdout",
          "text": [
            "Hola\n"
          ]
        }
      ]
    },
    {
      "cell_type": "markdown",
      "source": [
        "3. Escribir un programa que sume los números 1+2 y eleve el resultado al cuadrado"
      ],
      "metadata": {
        "id": "guDMWOMYVIqt"
      }
    },
    {
      "cell_type": "code",
      "source": [
        "a=1\n",
        "b=2\n",
        "c= a+b\n",
        "cuadrado = c**2\n",
        "print(cuadrado)"
      ],
      "metadata": {
        "colab": {
          "base_uri": "https://localhost:8080/"
        },
        "id": "uGbGK81tVWhd",
        "outputId": "a99354c7-8015-4b22-f316-c409e332fe94"
      },
      "execution_count": null,
      "outputs": [
        {
          "output_type": "stream",
          "name": "stdout",
          "text": [
            "9\n"
          ]
        }
      ]
    },
    {
      "cell_type": "markdown",
      "source": [
        "4. Escribir un programa que pregunte al usuario por dos números (first_number, second_number), cree una  variable (sum) que represente la suma de ambos, e imprima el valor de esta variable al cubo."
      ],
      "metadata": {
        "id": "3EGQSHrQVNOi"
      }
    },
    {
      "cell_type": "code",
      "source": [
        "first_number = float(input(\"First Number?\"))\n",
        "second_number = float(input(\"Second Number?\"))\n",
        "sum = first_number + second_number\n",
        "cubo = sum**3\n",
        "print(cubo)"
      ],
      "metadata": {
        "colab": {
          "base_uri": "https://localhost:8080/"
        },
        "id": "UFlHcHcLVXNr",
        "outputId": "75af37d6-a899-4995-bbae-13e33a49f1a2"
      },
      "execution_count": null,
      "outputs": [
        {
          "output_type": "stream",
          "name": "stdout",
          "text": [
            "First Number?1\n",
            "Second Number?2\n",
            "27.0\n"
          ]
        }
      ]
    },
    {
      "cell_type": "markdown",
      "source": [
        "5. Escribir un programa que cree una variable que sea una frase, por ejemplo Stranger Things, otra variable  que sea un número entero, por ejemplo 3, y otra variable que represente la suma de las dos primeras variables. Imprimir el valor de esta última variable (el resultado deberia ser Stranger Things 3)"
      ],
      "metadata": {
        "id": "3bKMypt1VQUJ"
      }
    },
    {
      "cell_type": "code",
      "source": [
        "texto = \"Stranger Things \"\n",
        "entero = \"3\"\n",
        "suma = texto + entero\n",
        "print (suma)\n"
      ],
      "metadata": {
        "colab": {
          "base_uri": "https://localhost:8080/"
        },
        "id": "_ru-KhiGVUpN",
        "outputId": "33a82dcc-71e3-4ed2-c952-87495c6577d7"
      },
      "execution_count": null,
      "outputs": [
        {
          "output_type": "stream",
          "name": "stdout",
          "text": [
            "Stranger Things 3\n"
          ]
        }
      ]
    },
    {
      "cell_type": "code",
      "source": [],
      "metadata": {
        "id": "_g351h7XZ70U"
      },
      "execution_count": null,
      "outputs": []
    }
  ]
}